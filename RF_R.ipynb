{
 "cells": [
  {
   "cell_type": "code",
   "execution_count": null,
   "metadata": {},
   "outputs": [],
   "source": [
    "# Builds Random Forest model with 100 trees\n",
    "\n",
    "library(randomForest)\n",
    "\n",
    "# Fit RandomForest model w/ training data\n",
    "dm_model <- randomForest(dm_model_formula, ntree=100, data=dm_traindf, importance=TRUE)\n",
    "\n",
    "# View model output\n",
    "summary(dm_model)\n",
    "\n",
    "# Save VariableImportance to CSV\n",
    "write.csv(importance(dm_model), file=\"rpt_forestIMP.csv\", row.names=TRUE)\n",
    "\n",
    "# Score full data\n",
    "dm_scoreddf <- data.frame(predict(dm_model, dm_inputdf, type=\"prob\"))\n",
    "colnames(dm_scoreddf) <- c(\"P_BAD0\", \"P_BAD1\")"
   ]
  }
 ],
 "metadata": {
  "language_info": {
   "name": "python"
  },
  "orig_nbformat": 4
 },
 "nbformat": 4,
 "nbformat_minor": 2
}
